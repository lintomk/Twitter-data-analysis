import tweepy 
import pandas as pd
import os
import nltk
import re
import csv
import matplotlib.pyplot as plt
#giving the keys for the twitter
consumer_key= 'N7xQegAcB5YfqDpCEIfGH1AHk'
consumer_secret= 'KKdSgKDhtiVX0BNfaGSQHUFRpnmwHrqbrmLZ3r1PvFlKahXMCy'
access_token= '325164119-ItLrMjOpPvSQgqVjozBZWDhgtlh8fNq32DXTBsdJ'
access_token_secret= '7S9KJt58i8qYlUOYMuzCiufNferW9f5iZIOybifM9PKLe'
auth = tweepy.OAuthHandler(consumer_key, consumer_secret)
auth.set_access_token(access_token, access_token_secret)
api = tweepy.API(auth,wait_on_rate_limit=True)
#Setting the keywords
hashtag=["Altcoin","Coindesk","Cryptocurrency","Gold","APPL","GOOG","Bitcoin","YHOO"]
#cleaning the data
def cleantext(tw):
 cleanedtext = re.sub(r"http\S+", "", tw)
 cleanedtext = re.sub('@[^\s]+',"", cleanedtext)
 cleanedtext = re.sub(r"[^a-zA-Z0-9]+", ' ', cleanedtext)
 return cleanedtext
# Open/Create a file to append data
for j in hashtag:
 csvFile = open(j+'.csv', 'a')
 #Use csv Writer
 with open(j+'.csv', 'w', newline='') as outcsv:
 writer = csv.DictWriter(outcsv, fieldnames = ["tweet_id", "Posted time", "User ID", "Tweet 
text"])
 writer.writeheader()
 csvWriter = csv.writer(csvFile)
 for tweet in tweepy.Cursor(api.search,q="#"+j + " -filter:retweets",count=100,
 lang="en",
 since="2020-02-19",tweet_mode='extended').items():
 new_text=cleantext(tweet.full_text)
 csvWriter.writerow([tweet.id,tweet.created_at,tweet.user.id, new_text])
#fetching the data from csv to visualise using the bar graph
for stockkey in hashtag:
 df = pd.read_csv(stockkey+'.csv')
 df.head()
 if df.empty:
 print("NO tweets found for #"+stockkey+ " on given days")
else:
 df['year'] = pd.DatetimeIndex(df['Posted time']).year
 df['date'] = pd.DatetimeIndex(df['Posted time']).date
 df['month'] = pd.DatetimeIndex(df['Posted time']).month
 df.head()
 tweet_count=df.groupby('date')['tweet_id'].count()
 print(tweet_count)
 user_count=df.groupby('date')['User ID'].nunique()
 print(user_count)
 tweet_count.plot(kind='bar',color='green',figsize=(5,5))
 plt.title(stockkey)
 plt.xlabel('date')
 plt.ylabel('number of tweets')
 plt.show()
 user_count.plot(kind='bar',color='red',figsize=(5,5))
 plt.title(stockkey)
 plt.xlabel('date')
 plt.ylabel('number of users')
 plt.show()
